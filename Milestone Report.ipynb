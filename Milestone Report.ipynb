{
 "cells": [
  {
   "cell_type": "markdown",
   "metadata": {
    "toc": true
   },
   "source": [
    "<h1>Table of Contents<span class=\"tocSkip\"></span></h1>\n",
    "<div class=\"toc\"><ul class=\"toc-item\"><li><span><a href=\"#Table-of-Contents\" data-toc-modified-id=\"Table-of-Contents-1\"><span class=\"toc-item-num\">1&nbsp;&nbsp;</span>Table of Contents</a></span><ul class=\"toc-item\"><li><span><a href=\"#Example\" data-toc-modified-id=\"Example-1.1\"><span class=\"toc-item-num\">1.1&nbsp;&nbsp;</span>Example</a></span></li><li><span><a href=\"#Example2\" data-toc-modified-id=\"Example2-1.2\"><span class=\"toc-item-num\">1.2&nbsp;&nbsp;</span>Example2</a></span></li><li><span><a href=\"#Third-Example\" data-toc-modified-id=\"Third-Example-1.3\"><span class=\"toc-item-num\">1.3&nbsp;&nbsp;</span>Third Example</a></span></li><li><span><a href=\"#Fourth-Example\" data-toc-modified-id=\"Fourth-Example-1.4\"><span class=\"toc-item-num\">1.4&nbsp;&nbsp;</span><a href=\"http://www.fourthexample.com\" target=\"_blank\">Fourth Example</a></a></span></li></ul></li><li><span><a href=\"#INTRODUCTION\" data-toc-modified-id=\"INTRODUCTION-2\"><span class=\"toc-item-num\">2&nbsp;&nbsp;</span>INTRODUCTION</a></span></li><li><span><a href=\"#OBJECTIVE\" data-toc-modified-id=\"OBJECTIVE-3\"><span class=\"toc-item-num\">3&nbsp;&nbsp;</span>OBJECTIVE</a></span></li><li><span><a href=\"#DATASET\" data-toc-modified-id=\"DATASET-4\"><span class=\"toc-item-num\">4&nbsp;&nbsp;</span>DATASET</a></span><ul class=\"toc-item\"><li><span><a href=\"#Import-training-data\" data-toc-modified-id=\"Import-training-data-4.1\"><span class=\"toc-item-num\">4.1&nbsp;&nbsp;</span>Import training data</a></span></li><li><span><a href=\"#Data-Exploration\" data-toc-modified-id=\"Data-Exploration-4.2\"><span class=\"toc-item-num\">4.2&nbsp;&nbsp;</span>Data Exploration</a></span><ul class=\"toc-item\"><li><span><a href=\"#Check-for-missing-values\" data-toc-modified-id=\"Check-for-missing-values-4.2.1\"><span class=\"toc-item-num\">4.2.1&nbsp;&nbsp;</span>Check for missing values</a></span></li><li><span><a href=\"#Check-correlation-among-variables-of-training-dataset\" data-toc-modified-id=\"Check-correlation-among-variables-of-training-dataset-4.2.2\"><span class=\"toc-item-num\">4.2.2&nbsp;&nbsp;</span>Check correlation among variables of training dataset</a></span></li><li><span><a href=\"#Check-distribution-of-interval-features\" data-toc-modified-id=\"Check-distribution-of-interval-features-4.2.3\"><span class=\"toc-item-num\">4.2.3&nbsp;&nbsp;</span>Check distribution of interval features</a></span><ul class=\"toc-item\"><li><span><a href=\"#Check-distribution-of-Target-variable\" data-toc-modified-id=\"Check-distribution-of-Target-variable-4.2.3.1\"><span class=\"toc-item-num\">4.2.3.1&nbsp;&nbsp;</span>Check distribution of Target variable</a></span></li><li><span><a href=\"#Check-distribution-of-no.-of-floors-in-the-buildings-before-erthquake\" data-toc-modified-id=\"Check-distribution-of-no.-of-floors-in-the-buildings-before-erthquake-4.2.3.2\"><span class=\"toc-item-num\">4.2.3.2&nbsp;&nbsp;</span>Check distribution of no. of floors in the buildings before erthquake</a></span></li><li><span><a href=\"#Check-distribution-of-buildings'-age\" data-toc-modified-id=\"Check-distribution-of-buildings'-age-4.2.3.3\"><span class=\"toc-item-num\">4.2.3.3&nbsp;&nbsp;</span>Check distribution of buildings' age</a></span></li><li><span><a href=\"#Check-distribution-of-area_percentage\" data-toc-modified-id=\"Check-distribution-of-area_percentage-4.2.3.4\"><span class=\"toc-item-num\">4.2.3.4&nbsp;&nbsp;</span>Check distribution of area_percentage</a></span></li><li><span><a href=\"#Check-distribution-of-height_percentage\" data-toc-modified-id=\"Check-distribution-of-height_percentage-4.2.3.5\"><span class=\"toc-item-num\">4.2.3.5&nbsp;&nbsp;</span>Check distribution of height_percentage</a></span></li><li><span><a href=\"#Check-distrinution-of-no.-of-families-living-in-the-buildings\" data-toc-modified-id=\"Check-distrinution-of-no.-of-families-living-in-the-buildings-4.2.3.6\"><span class=\"toc-item-num\">4.2.3.6&nbsp;&nbsp;</span>Check distrinution of no. of families living in the buildings</a></span></li></ul></li><li><span><a href=\"#Analyze-effect-of-variour-features-on-damage-caused-to-the-buildings\" data-toc-modified-id=\"Analyze-effect-of-variour-features-on-damage-caused-to-the-buildings-4.2.4\"><span class=\"toc-item-num\">4.2.4&nbsp;&nbsp;</span>Analyze effect of variour features on damage caused to the buildings</a></span><ul class=\"toc-item\"><li><span><a href=\"#Analyze-effect-of-building's-age-on-the-damage-caused\" data-toc-modified-id=\"Analyze-effect-of-building's-age-on-the-damage-caused-4.2.4.1\"><span class=\"toc-item-num\">4.2.4.1&nbsp;&nbsp;</span>Analyze effect of building's age on the damage caused</a></span></li><li><span><a href=\"#Analyze-effect-of-building's-age-on-the-damage-caused-for-building-of-age-50-100-years\" data-toc-modified-id=\"Analyze-effect-of-building's-age-on-the-damage-caused-for-building-of-age-50-100-years-4.2.4.2\"><span class=\"toc-item-num\">4.2.4.2&nbsp;&nbsp;</span>Analyze effect of building's age on the damage caused for building of age 50-100 years</a></span></li><li><span><a href=\"#Analyze-effect-of-building-materials-on-the-damage-caused\" data-toc-modified-id=\"Analyze-effect-of-building-materials-on-the-damage-caused-4.2.4.3\"><span class=\"toc-item-num\">4.2.4.3&nbsp;&nbsp;</span>Analyze effect of building materials on the damage caused</a></span></li><li><span><a href=\"#Analyze-effect-of-Foundation-Type-on-damage-grade\" data-toc-modified-id=\"Analyze-effect-of-Foundation-Type-on-damage-grade-4.2.4.4\"><span class=\"toc-item-num\">4.2.4.4&nbsp;&nbsp;</span>Analyze effect of Foundation Type on damage grade</a></span></li><li><span><a href=\"#Check-no.-of-floors-in-building-with-'r'-foundation--type\" data-toc-modified-id=\"Check-no.-of-floors-in-building-with-'r'-foundation--type-4.2.4.5\"><span class=\"toc-item-num\">4.2.4.5&nbsp;&nbsp;</span>Check no. of floors in building with 'r' foundation  type</a></span></li></ul></li><li><span><a href=\"#Summary\" data-toc-modified-id=\"Summary-4.2.5\"><span class=\"toc-item-num\">4.2.5&nbsp;&nbsp;</span>Summary</a></span></li></ul></li></ul></li></ul></div>"
   ]
  },
  {
   "cell_type": "markdown",
   "metadata": {},
   "source": [
    "# Table of Contents\n",
    "1. [Introduction](#introduction)\n",
    "2. [Objective](#objective)\n",
    "3. [Dataset](#dataset)\n",
    "4. [Fourth Example](#fourth-examplehttpwwwfourthexamplecom)\n",
    "\n",
    "\n",
    "\n",
    "\n",
    "\n",
    "\n",
    "\n",
    "\n",
    "## Example\n",
    "## Example2\n",
    "## Third Example\n",
    "## [Fourth Example](http://www.fourthexample.com) "
   ]
  },
  {
   "cell_type": "code",
   "execution_count": null,
   "metadata": {},
   "outputs": [],
   "source": []
  },
  {
   "cell_type": "markdown",
   "metadata": {
    "ExecuteTime": {
     "end_time": "2019-11-09T03:12:28.823163Z",
     "start_time": "2019-11-09T03:12:28.818175Z"
    }
   },
   "source": [
    "# INTRODUCTION"
   ]
  },
  {
   "cell_type": "markdown",
   "metadata": {},
   "source": [
    "This competition is hosted by drivendata.com with the name **\"Richter's Predictor: Modeling Earthquake Damage.\"**  \n",
    "\n",
    "A destructive earthquake of 7.8 magnitude occured in Nepal in April 2015. This earthquake claimed almost 9,000 lives and around $10 billion in damages. Millions of people lost everything and became homeless in a few moments.\n",
    "\n",
    "Following the earthquake, the Nepalese government launched massive survey to assess damages happened to buildings in affected districts. Although the primary goal of this survey was to identify beneficiaries eligible for government assistance for housing reconstruction, it also collected other useful socio-economic information. In addition to housing reconstruction, this data serves a wide range of uses and users e.g. researchers, newly formed local governments, and citizens at large. This survey is **one of the largest post-disaster datasets ever collected.**\n",
    "\n",
    "**Reference:** https://www.drivendata.org/competitions/57/nepal-earthquake/page/135/\n"
   ]
  },
  {
   "cell_type": "markdown",
   "metadata": {},
   "source": [
    "# OBJECTIVE"
   ]
  },
  {
   "cell_type": "markdown",
   "metadata": {},
   "source": [
    "The objective of this project is to predict amount of damage (damage_grade) to the buildings given their household and and socio-economic-demographic conditions.\n",
    "\n",
    "The 3 grades of damage are:\n",
    "\n",
    "•\t**1**- Represents **low** damage.  \n",
    "•\t**2**- Represents **medium** damage.  \n",
    "•\t**3**- Represents **high** damage, i.e completely destroyed.  \n"
   ]
  },
  {
   "cell_type": "markdown",
   "metadata": {},
   "source": [
    "# DATASET"
   ]
  },
  {
   "cell_type": "markdown",
   "metadata": {},
   "source": [
    "The dataset consists of information about household conditions and socio-economic-demographic statistics of the  buildings damaged during Nepal's Gorkha earthquake in 2015.\n",
    "\n",
    "There are total **39 columns** in the training dataset. The dataset is semi-anonymized by the competition host. **building_id** is the unique identifier of each record.\n",
    "\n",
    "Categorical variables have been obfuscated random lowercase ascii characters. The appearance of the same character in distinct columns does not imply the same original value.\n",
    "\n",
    "Below is the detail of all the variables of training dataset"
   ]
  },
  {
   "cell_type": "markdown",
   "metadata": {},
   "source": [
    "| S.No | Variable name | Datatype | Description |\n",
    "| :--- | :--- | :--- | :--- |\n",
    "| 1 | building_id | int | unique and random identifier |\n",
    "|2,3,4 | geo_level_1_id, geo_level_2_id geo_level_3_id | int | Geographic region in which building exists, from largest (level 1) to most specific sub-region (level 3). Possible values: level 1: 0-30, level 2: 0-1427, level 3: 0-12567 |\n",
    "| 5 | count_floors_pre_eq | int |number of floors in the building before the earthquake. |\n",
    "| 6\t| age | int | age of the building in years. |\n",
    "| 7\t| area_percentage |\tint\t| normalized area of the building footprint. |\n",
    "| 8\t| height_percentage | int |\tnormalized height of the building footprint. |\n",
    "| 9\t| land_surface_condition | \tcategorical | surface condition of the land where the building was built. Possible values: n, o, t. |\n",
    "| 10 | foundation_type | categorical |type of foundation used while building. Possible values: h, i, r, u, w. |\n",
    "| 11 | roof_type | \tcategorical\t| type of roof used while building. Possible values: n, q, x. |\n",
    "| 12 | ground_floor_type |\tcategorical | type of the ground floor. Possible values: f, m, v, x, z. |\n",
    "| 13 | other_floor_type | categorical |\ttype of constructions used in higher than the ground floors (except of roof). Possible values: j, q, s, x. |\n",
    "| 14 | position | categorical |\tposition of the building. Possible values: j, o, s, t. |\n",
    "| 15 | plan_configuration |\tcategorical\t| building plan configuration. Possible values: a, c, d, f, m, n, o, q, s, u. |\n",
    "| 16 | has_superstructure_adobe_mud | binary | flag variable that indicates if the superstructure was made of Adobe/Mud. | \n",
    "| 17 | has_superstructure_mud_mortar_stone |\tbinary | flag variable that indicates if the superstructure was made of Mud Mortar - Stone. |\n",
    "| 18 | has_superstructure_stone_flag | binary |\tflag variable that indicates if the superstructure was made of Stone. |\n",
    "| 19 | has_superstructure_cement_mortar_stone |\tbinary | flag variable that indicates if the  |superstructure was made of Cement Mortar - Stone. |\n",
    " | 20 | as_superstructure_mud_mortar_brick | binary | flag variable that indicates if the superstructure was made of Mud Mortar - Brick. |\n",
    "| 21 | has_superstructure_cement_mortar_brick | binary | flag variable that indicates if the superstructure was made of Cement Mortar - Brick. |\n",
    "| 22 |\thas_superstructure_timber |\tbinary | flag variable that indicates if the superstructure was made of Timber. |\n",
    "| 23 | has_superstructure_bamboo | binary | flag variable that indicates if the superstructure was made of Bamboo. |\n",
    "| 24 | has_superstructure_rc_non_engineered | binary | flag variable that indicates if the superstructure was made of non-engineered reinforced concrete. |\n",
    "| 25 | has_superstructure_rc_engineered | binary | flag variable that indicates if the superstructure was made of engineered reinforced concrete. |\n",
    "| 26 | has_superstructure_other | binary | flag variable that indicates if the superstructure was made of any other material. |\n",
    "| 27 | legal_ownership_status |\tcategorical | legal ownership status of the land where building was built. Possible values: a, r, v, w. |\n",
    "| 28 | count_families |\tint | number of families that live in the building. |\n",
    "| 29 | has_secondary_use | binary |\tflag variable that indicates if the building was used for any secondary purpose. |\n",
    "| 30 | has_secondary_use_agriculture |\tbinary | flag variable that indicates if the building was used for agricultural purposes. |\n",
    "| 31 | has_secondary_use_hotel | binary | flag variable that indicates if the building was used as a hotel. |\n",
    "| 32 | has_secondary_use_rental | binary | flag variable that indicates if the building was used for rental purposes. |\n",
    "| 33 | has_secondary_use_institution | binary | flag variable that indicates if the building was used as a location of any institution. |\n",
    "| 34 | has_secondary_use_school | binary | flag variable that indicates if the building was used as a school. |\n",
    "| 35 | has_secondary_use_industry |\tbinary | flag variable that indicates if the building was used for industrial purposes. |\n",
    "| 36 | has_secondary_use_health_post | binary | flag variable that indicates if the building was used as a health post. |\n",
    "| 37 | has_secondary_use_gov_office | binary | flag variable that indicates if the building was used fas a government office. |\n",
    "| 38 | has_secondary_use_use_police | binary | flag variable that indicates if the building was used as a police station. |\n",
    "| 39 | has_secondary_use_other | binary | flag variable that indicates if the building was secondarily used for other purposes. |\n",
    "\n"
   ]
  },
  {
   "cell_type": "markdown",
   "metadata": {},
   "source": [
    "## Import training data"
   ]
  },
  {
   "cell_type": "code",
   "execution_count": 132,
   "metadata": {
    "ExecuteTime": {
     "end_time": "2019-11-13T02:59:12.845965Z",
     "start_time": "2019-11-13T02:59:12.839983Z"
    }
   },
   "outputs": [],
   "source": [
    "import pandas as pd\n",
    "import numpy as np\n",
    "import seaborn as sns\n",
    "import matplotlib.pyplot as plt\n",
    "import pandas_profiling as pp\n",
    "\n",
    "# Pre set values for max cols and chart size\n",
    "\n",
    "pd.set_option('display.max_columns', None)\n",
    "pd.set_option('display.max_rows', None)\n",
    "\n",
    "plt.rcParams[\"figure.figsize\"] = (12,5)"
   ]
  },
  {
   "cell_type": "code",
   "execution_count": 133,
   "metadata": {
    "ExecuteTime": {
     "end_time": "2019-11-13T02:59:13.734588Z",
     "start_time": "2019-11-13T02:59:12.848956Z"
    }
   },
   "outputs": [
    {
     "data": {
      "text/html": [
       "<div>\n",
       "<style scoped>\n",
       "    .dataframe tbody tr th:only-of-type {\n",
       "        vertical-align: middle;\n",
       "    }\n",
       "\n",
       "    .dataframe tbody tr th {\n",
       "        vertical-align: top;\n",
       "    }\n",
       "\n",
       "    .dataframe thead th {\n",
       "        text-align: right;\n",
       "    }\n",
       "</style>\n",
       "<table border=\"1\" class=\"dataframe\">\n",
       "  <thead>\n",
       "    <tr style=\"text-align: right;\">\n",
       "      <th></th>\n",
       "      <th>building_id</th>\n",
       "      <th>geo_level_1_id</th>\n",
       "      <th>geo_level_2_id</th>\n",
       "      <th>geo_level_3_id</th>\n",
       "      <th>count_floors_pre_eq</th>\n",
       "      <th>age</th>\n",
       "      <th>area_percentage</th>\n",
       "      <th>height_percentage</th>\n",
       "      <th>land_surface_condition</th>\n",
       "      <th>foundation_type</th>\n",
       "      <th>roof_type</th>\n",
       "      <th>ground_floor_type</th>\n",
       "      <th>other_floor_type</th>\n",
       "      <th>position</th>\n",
       "      <th>plan_configuration</th>\n",
       "      <th>has_superstructure_adobe_mud</th>\n",
       "      <th>has_superstructure_mud_mortar_stone</th>\n",
       "      <th>has_superstructure_stone_flag</th>\n",
       "      <th>has_superstructure_cement_mortar_stone</th>\n",
       "      <th>has_superstructure_mud_mortar_brick</th>\n",
       "      <th>has_superstructure_cement_mortar_brick</th>\n",
       "      <th>has_superstructure_timber</th>\n",
       "      <th>has_superstructure_bamboo</th>\n",
       "      <th>has_superstructure_rc_non_engineered</th>\n",
       "      <th>has_superstructure_rc_engineered</th>\n",
       "      <th>has_superstructure_other</th>\n",
       "      <th>legal_ownership_status</th>\n",
       "      <th>count_families</th>\n",
       "      <th>has_secondary_use</th>\n",
       "      <th>has_secondary_use_agriculture</th>\n",
       "      <th>has_secondary_use_hotel</th>\n",
       "      <th>has_secondary_use_rental</th>\n",
       "      <th>has_secondary_use_institution</th>\n",
       "      <th>has_secondary_use_school</th>\n",
       "      <th>has_secondary_use_industry</th>\n",
       "      <th>has_secondary_use_health_post</th>\n",
       "      <th>has_secondary_use_gov_office</th>\n",
       "      <th>has_secondary_use_use_police</th>\n",
       "      <th>has_secondary_use_other</th>\n",
       "    </tr>\n",
       "  </thead>\n",
       "  <tbody>\n",
       "    <tr>\n",
       "      <th>0</th>\n",
       "      <td>802906</td>\n",
       "      <td>6</td>\n",
       "      <td>487</td>\n",
       "      <td>12198</td>\n",
       "      <td>2</td>\n",
       "      <td>30</td>\n",
       "      <td>6</td>\n",
       "      <td>5</td>\n",
       "      <td>t</td>\n",
       "      <td>r</td>\n",
       "      <td>n</td>\n",
       "      <td>f</td>\n",
       "      <td>q</td>\n",
       "      <td>t</td>\n",
       "      <td>d</td>\n",
       "      <td>1</td>\n",
       "      <td>1</td>\n",
       "      <td>0</td>\n",
       "      <td>0</td>\n",
       "      <td>0</td>\n",
       "      <td>0</td>\n",
       "      <td>0</td>\n",
       "      <td>0</td>\n",
       "      <td>0</td>\n",
       "      <td>0</td>\n",
       "      <td>0</td>\n",
       "      <td>v</td>\n",
       "      <td>1</td>\n",
       "      <td>0</td>\n",
       "      <td>0</td>\n",
       "      <td>0</td>\n",
       "      <td>0</td>\n",
       "      <td>0</td>\n",
       "      <td>0</td>\n",
       "      <td>0</td>\n",
       "      <td>0</td>\n",
       "      <td>0</td>\n",
       "      <td>0</td>\n",
       "      <td>0</td>\n",
       "    </tr>\n",
       "    <tr>\n",
       "      <th>1</th>\n",
       "      <td>28830</td>\n",
       "      <td>8</td>\n",
       "      <td>900</td>\n",
       "      <td>2812</td>\n",
       "      <td>2</td>\n",
       "      <td>10</td>\n",
       "      <td>8</td>\n",
       "      <td>7</td>\n",
       "      <td>o</td>\n",
       "      <td>r</td>\n",
       "      <td>n</td>\n",
       "      <td>x</td>\n",
       "      <td>q</td>\n",
       "      <td>s</td>\n",
       "      <td>d</td>\n",
       "      <td>0</td>\n",
       "      <td>1</td>\n",
       "      <td>0</td>\n",
       "      <td>0</td>\n",
       "      <td>0</td>\n",
       "      <td>0</td>\n",
       "      <td>0</td>\n",
       "      <td>0</td>\n",
       "      <td>0</td>\n",
       "      <td>0</td>\n",
       "      <td>0</td>\n",
       "      <td>v</td>\n",
       "      <td>1</td>\n",
       "      <td>0</td>\n",
       "      <td>0</td>\n",
       "      <td>0</td>\n",
       "      <td>0</td>\n",
       "      <td>0</td>\n",
       "      <td>0</td>\n",
       "      <td>0</td>\n",
       "      <td>0</td>\n",
       "      <td>0</td>\n",
       "      <td>0</td>\n",
       "      <td>0</td>\n",
       "    </tr>\n",
       "    <tr>\n",
       "      <th>2</th>\n",
       "      <td>94947</td>\n",
       "      <td>21</td>\n",
       "      <td>363</td>\n",
       "      <td>8973</td>\n",
       "      <td>2</td>\n",
       "      <td>10</td>\n",
       "      <td>5</td>\n",
       "      <td>5</td>\n",
       "      <td>t</td>\n",
       "      <td>r</td>\n",
       "      <td>n</td>\n",
       "      <td>f</td>\n",
       "      <td>x</td>\n",
       "      <td>t</td>\n",
       "      <td>d</td>\n",
       "      <td>0</td>\n",
       "      <td>1</td>\n",
       "      <td>0</td>\n",
       "      <td>0</td>\n",
       "      <td>0</td>\n",
       "      <td>0</td>\n",
       "      <td>0</td>\n",
       "      <td>0</td>\n",
       "      <td>0</td>\n",
       "      <td>0</td>\n",
       "      <td>0</td>\n",
       "      <td>v</td>\n",
       "      <td>1</td>\n",
       "      <td>0</td>\n",
       "      <td>0</td>\n",
       "      <td>0</td>\n",
       "      <td>0</td>\n",
       "      <td>0</td>\n",
       "      <td>0</td>\n",
       "      <td>0</td>\n",
       "      <td>0</td>\n",
       "      <td>0</td>\n",
       "      <td>0</td>\n",
       "      <td>0</td>\n",
       "    </tr>\n",
       "    <tr>\n",
       "      <th>3</th>\n",
       "      <td>590882</td>\n",
       "      <td>22</td>\n",
       "      <td>418</td>\n",
       "      <td>10694</td>\n",
       "      <td>2</td>\n",
       "      <td>10</td>\n",
       "      <td>6</td>\n",
       "      <td>5</td>\n",
       "      <td>t</td>\n",
       "      <td>r</td>\n",
       "      <td>n</td>\n",
       "      <td>f</td>\n",
       "      <td>x</td>\n",
       "      <td>s</td>\n",
       "      <td>d</td>\n",
       "      <td>0</td>\n",
       "      <td>1</td>\n",
       "      <td>0</td>\n",
       "      <td>0</td>\n",
       "      <td>0</td>\n",
       "      <td>0</td>\n",
       "      <td>1</td>\n",
       "      <td>1</td>\n",
       "      <td>0</td>\n",
       "      <td>0</td>\n",
       "      <td>0</td>\n",
       "      <td>v</td>\n",
       "      <td>1</td>\n",
       "      <td>0</td>\n",
       "      <td>0</td>\n",
       "      <td>0</td>\n",
       "      <td>0</td>\n",
       "      <td>0</td>\n",
       "      <td>0</td>\n",
       "      <td>0</td>\n",
       "      <td>0</td>\n",
       "      <td>0</td>\n",
       "      <td>0</td>\n",
       "      <td>0</td>\n",
       "    </tr>\n",
       "    <tr>\n",
       "      <th>4</th>\n",
       "      <td>201944</td>\n",
       "      <td>11</td>\n",
       "      <td>131</td>\n",
       "      <td>1488</td>\n",
       "      <td>3</td>\n",
       "      <td>30</td>\n",
       "      <td>8</td>\n",
       "      <td>9</td>\n",
       "      <td>t</td>\n",
       "      <td>r</td>\n",
       "      <td>n</td>\n",
       "      <td>f</td>\n",
       "      <td>x</td>\n",
       "      <td>s</td>\n",
       "      <td>d</td>\n",
       "      <td>1</td>\n",
       "      <td>0</td>\n",
       "      <td>0</td>\n",
       "      <td>0</td>\n",
       "      <td>0</td>\n",
       "      <td>0</td>\n",
       "      <td>0</td>\n",
       "      <td>0</td>\n",
       "      <td>0</td>\n",
       "      <td>0</td>\n",
       "      <td>0</td>\n",
       "      <td>v</td>\n",
       "      <td>1</td>\n",
       "      <td>0</td>\n",
       "      <td>0</td>\n",
       "      <td>0</td>\n",
       "      <td>0</td>\n",
       "      <td>0</td>\n",
       "      <td>0</td>\n",
       "      <td>0</td>\n",
       "      <td>0</td>\n",
       "      <td>0</td>\n",
       "      <td>0</td>\n",
       "      <td>0</td>\n",
       "    </tr>\n",
       "  </tbody>\n",
       "</table>\n",
       "</div>"
      ],
      "text/plain": [
       "   building_id  geo_level_1_id  geo_level_2_id  geo_level_3_id  \\\n",
       "0       802906               6             487           12198   \n",
       "1        28830               8             900            2812   \n",
       "2        94947              21             363            8973   \n",
       "3       590882              22             418           10694   \n",
       "4       201944              11             131            1488   \n",
       "\n",
       "   count_floors_pre_eq  age  area_percentage  height_percentage  \\\n",
       "0                    2   30                6                  5   \n",
       "1                    2   10                8                  7   \n",
       "2                    2   10                5                  5   \n",
       "3                    2   10                6                  5   \n",
       "4                    3   30                8                  9   \n",
       "\n",
       "  land_surface_condition foundation_type roof_type ground_floor_type  \\\n",
       "0                      t               r         n                 f   \n",
       "1                      o               r         n                 x   \n",
       "2                      t               r         n                 f   \n",
       "3                      t               r         n                 f   \n",
       "4                      t               r         n                 f   \n",
       "\n",
       "  other_floor_type position plan_configuration  has_superstructure_adobe_mud  \\\n",
       "0                q        t                  d                             1   \n",
       "1                q        s                  d                             0   \n",
       "2                x        t                  d                             0   \n",
       "3                x        s                  d                             0   \n",
       "4                x        s                  d                             1   \n",
       "\n",
       "   has_superstructure_mud_mortar_stone  has_superstructure_stone_flag  \\\n",
       "0                                    1                              0   \n",
       "1                                    1                              0   \n",
       "2                                    1                              0   \n",
       "3                                    1                              0   \n",
       "4                                    0                              0   \n",
       "\n",
       "   has_superstructure_cement_mortar_stone  \\\n",
       "0                                       0   \n",
       "1                                       0   \n",
       "2                                       0   \n",
       "3                                       0   \n",
       "4                                       0   \n",
       "\n",
       "   has_superstructure_mud_mortar_brick  \\\n",
       "0                                    0   \n",
       "1                                    0   \n",
       "2                                    0   \n",
       "3                                    0   \n",
       "4                                    0   \n",
       "\n",
       "   has_superstructure_cement_mortar_brick  has_superstructure_timber  \\\n",
       "0                                       0                          0   \n",
       "1                                       0                          0   \n",
       "2                                       0                          0   \n",
       "3                                       0                          1   \n",
       "4                                       0                          0   \n",
       "\n",
       "   has_superstructure_bamboo  has_superstructure_rc_non_engineered  \\\n",
       "0                          0                                     0   \n",
       "1                          0                                     0   \n",
       "2                          0                                     0   \n",
       "3                          1                                     0   \n",
       "4                          0                                     0   \n",
       "\n",
       "   has_superstructure_rc_engineered  has_superstructure_other  \\\n",
       "0                                 0                         0   \n",
       "1                                 0                         0   \n",
       "2                                 0                         0   \n",
       "3                                 0                         0   \n",
       "4                                 0                         0   \n",
       "\n",
       "  legal_ownership_status  count_families  has_secondary_use  \\\n",
       "0                      v               1                  0   \n",
       "1                      v               1                  0   \n",
       "2                      v               1                  0   \n",
       "3                      v               1                  0   \n",
       "4                      v               1                  0   \n",
       "\n",
       "   has_secondary_use_agriculture  has_secondary_use_hotel  \\\n",
       "0                              0                        0   \n",
       "1                              0                        0   \n",
       "2                              0                        0   \n",
       "3                              0                        0   \n",
       "4                              0                        0   \n",
       "\n",
       "   has_secondary_use_rental  has_secondary_use_institution  \\\n",
       "0                         0                              0   \n",
       "1                         0                              0   \n",
       "2                         0                              0   \n",
       "3                         0                              0   \n",
       "4                         0                              0   \n",
       "\n",
       "   has_secondary_use_school  has_secondary_use_industry  \\\n",
       "0                         0                           0   \n",
       "1                         0                           0   \n",
       "2                         0                           0   \n",
       "3                         0                           0   \n",
       "4                         0                           0   \n",
       "\n",
       "   has_secondary_use_health_post  has_secondary_use_gov_office  \\\n",
       "0                              0                             0   \n",
       "1                              0                             0   \n",
       "2                              0                             0   \n",
       "3                              0                             0   \n",
       "4                              0                             0   \n",
       "\n",
       "   has_secondary_use_use_police  has_secondary_use_other  \n",
       "0                             0                        0  \n",
       "1                             0                        0  \n",
       "2                             0                        0  \n",
       "3                             0                        0  \n",
       "4                             0                        0  "
      ]
     },
     "execution_count": 133,
     "metadata": {},
     "output_type": "execute_result"
    }
   ],
   "source": [
    "#  Read training data\n",
    "\n",
    "data=pd.read_csv('train_values.csv')\n",
    "data.head()"
   ]
  },
  {
   "cell_type": "code",
   "execution_count": 134,
   "metadata": {
    "ExecuteTime": {
     "end_time": "2019-11-13T02:59:13.818363Z",
     "start_time": "2019-11-13T02:59:13.737582Z"
    }
   },
   "outputs": [],
   "source": [
    "# Read table with target variable \n",
    "\n",
    "label=pd.read_csv('train_labels.csv')\n",
    "\n",
    "# Add Target variable to training data \n",
    "\n",
    "data['damage']=label['damage_grade']"
   ]
  },
  {
   "cell_type": "markdown",
   "metadata": {},
   "source": [
    "## Data Exploration"
   ]
  },
  {
   "cell_type": "markdown",
   "metadata": {},
   "source": [
    "### Check for missing values"
   ]
  },
  {
   "cell_type": "code",
   "execution_count": 135,
   "metadata": {
    "ExecuteTime": {
     "end_time": "2019-11-13T02:59:14.220291Z",
     "start_time": "2019-11-13T02:59:13.821357Z"
    }
   },
   "outputs": [
    {
     "name": "stdout",
     "output_type": "stream",
     "text": [
      "<class 'pandas.core.frame.DataFrame'>\n",
      "RangeIndex: 260601 entries, 0 to 260600\n",
      "Data columns (total 40 columns):\n",
      "building_id                               260601 non-null int64\n",
      "geo_level_1_id                            260601 non-null int64\n",
      "geo_level_2_id                            260601 non-null int64\n",
      "geo_level_3_id                            260601 non-null int64\n",
      "count_floors_pre_eq                       260601 non-null int64\n",
      "age                                       260601 non-null int64\n",
      "area_percentage                           260601 non-null int64\n",
      "height_percentage                         260601 non-null int64\n",
      "land_surface_condition                    260601 non-null object\n",
      "foundation_type                           260601 non-null object\n",
      "roof_type                                 260601 non-null object\n",
      "ground_floor_type                         260601 non-null object\n",
      "other_floor_type                          260601 non-null object\n",
      "position                                  260601 non-null object\n",
      "plan_configuration                        260601 non-null object\n",
      "has_superstructure_adobe_mud              260601 non-null int64\n",
      "has_superstructure_mud_mortar_stone       260601 non-null int64\n",
      "has_superstructure_stone_flag             260601 non-null int64\n",
      "has_superstructure_cement_mortar_stone    260601 non-null int64\n",
      "has_superstructure_mud_mortar_brick       260601 non-null int64\n",
      "has_superstructure_cement_mortar_brick    260601 non-null int64\n",
      "has_superstructure_timber                 260601 non-null int64\n",
      "has_superstructure_bamboo                 260601 non-null int64\n",
      "has_superstructure_rc_non_engineered      260601 non-null int64\n",
      "has_superstructure_rc_engineered          260601 non-null int64\n",
      "has_superstructure_other                  260601 non-null int64\n",
      "legal_ownership_status                    260601 non-null object\n",
      "count_families                            260601 non-null int64\n",
      "has_secondary_use                         260601 non-null int64\n",
      "has_secondary_use_agriculture             260601 non-null int64\n",
      "has_secondary_use_hotel                   260601 non-null int64\n",
      "has_secondary_use_rental                  260601 non-null int64\n",
      "has_secondary_use_institution             260601 non-null int64\n",
      "has_secondary_use_school                  260601 non-null int64\n",
      "has_secondary_use_industry                260601 non-null int64\n",
      "has_secondary_use_health_post             260601 non-null int64\n",
      "has_secondary_use_gov_office              260601 non-null int64\n",
      "has_secondary_use_use_police              260601 non-null int64\n",
      "has_secondary_use_other                   260601 non-null int64\n",
      "damage                                    260601 non-null int64\n",
      "dtypes: int64(32), object(8)\n",
      "memory usage: 79.5+ MB\n"
     ]
    }
   ],
   "source": [
    "data.info()"
   ]
  },
  {
   "cell_type": "markdown",
   "metadata": {},
   "source": [
    " All the values are filled in, no missing values."
   ]
  },
  {
   "cell_type": "markdown",
   "metadata": {},
   "source": [
    "### Check correlation among variables of training dataset"
   ]
  },
  {
   "cell_type": "code",
   "execution_count": 136,
   "metadata": {
    "ExecuteTime": {
     "end_time": "2019-11-13T02:59:16.002523Z",
     "start_time": "2019-11-13T02:59:14.224280Z"
    }
   },
   "outputs": [
    {
     "data": {
      "text/plain": [
       "<matplotlib.axes._subplots.AxesSubplot at 0x22c082484a8>"
      ]
     },
     "execution_count": 136,
     "metadata": {},
     "output_type": "execute_result"
    },
    {
     "data": {
      "image/png": "[encoded data removed]",
      "text/plain": [
       "<Figure size 720x720 with 2 Axes>"
      ]
     },
     "metadata": {
      "needs_background": "light"
     },
     "output_type": "display_data"
    }
   ],
   "source": [
    "# Check correlation of all the columns to see if something stands-out explicitly\n",
    "corr=data.corr()\n",
    "plt.subplots(figsize=(10,10))\n",
    "\n",
    "sns.heatmap(corr, xticklabels=True,yticklabels=True,  vmin=0, vmax=1,\n",
    "    cmap=sns.diverging_palette(20, 220, n=100),\n",
    "    square=True)\n",
    "\n"
   ]
  },
  {
   "cell_type": "markdown",
   "metadata": {},
   "source": [
    "- There are not a lot of correlated fields. \n",
    "- has_secondary_use is correlated with it's sub_parts and  \n",
    "- height_percentage is highly correlated with count_floors_pre_eq\n",
    "- area_percentage and height_percentage are correlated with has_super_structure features and seconday use of buildings.\n"
   ]
  },
  {
   "cell_type": "markdown",
   "metadata": {},
   "source": [
    "- Age: Zero=10%. Could be missing data or newer building , less than a year old.\n",
    "\n",
    "- count_families: Zero=8%, Are these non-residential building? \n",
    "\n",
    "- geo_level_1_id: Zero=1.5%, Investigate these records"
   ]
  },
  {
   "cell_type": "markdown",
   "metadata": {},
   "source": [
    "### Check distribution of interval features"
   ]
  },
  {
   "cell_type": "markdown",
   "metadata": {},
   "source": [
    "Let's examine the distribution of interval variables in the training dataset. Below are the variable with int datatype\n",
    "\n",
    "**1.** damage_grade  \n",
    "**2.** count_floors_pre_eq  \n",
    "**3.** age  \n",
    "**4.** area_percentage   \n",
    "**5.** height_percentage   \n",
    "**6.** count_families   \n"
   ]
  },
  {
   "cell_type": "markdown",
   "metadata": {},
   "source": [
    "#### Check distribution of Target variable"
   ]
  },
  {
   "cell_type": "code",
   "execution_count": 137,
   "metadata": {
    "ExecuteTime": {
     "end_time": "2019-11-13T02:59:16.215952Z",
     "start_time": "2019-11-13T02:59:16.005516Z"
    }
   },
   "outputs": [
    {
     "data": {
      "text/plain": [
       "Text(0.5, 1.0, 'Target distribution')"
      ]
     },
     "execution_count": 137,
     "metadata": {},
     "output_type": "execute_result"
    },
    {
     "data": {
      "image/png": "[encoded data removed]",
      "text/plain": [
       "<Figure size 864x360 with 1 Axes>"
      ]
     },
     "metadata": {
      "needs_background": "light"
     },
     "output_type": "display_data"
    }
   ],
   "source": [
    "data['damage'].value_counts().sort_index().plot(kind='bar')\n",
    "plt.xlabel('Damage Grade')\n",
    "plt.ylabel('No. of records')\n",
    "plt.title('Target distribution')"
   ]
  },
  {
   "cell_type": "markdown",
   "metadata": {},
   "source": [
    "The training data is imbalanced with maximum no. of data points for damage_grade 2. This imbalance might cause bais towards damage_grade 2 for test dataset."
   ]
  },
  {
   "cell_type": "markdown",
   "metadata": {},
   "source": [
    "#### Check distribution of no. of floors in the buildings before erthquake"
   ]
  },
  {
   "cell_type": "code",
   "execution_count": 138,
   "metadata": {
    "ExecuteTime": {
     "end_time": "2019-11-13T02:59:16.465286Z",
     "start_time": "2019-11-13T02:59:16.218945Z"
    }
   },
   "outputs": [
    {
     "data": {
      "text/plain": [
       "Text(0.5, 1.0, 'Distribution of count_floors_pre_eq variable')"
      ]
     },
     "execution_count": 138,
     "metadata": {},
     "output_type": "execute_result"
    },
    {
     "data": {
      "image/png": "[encoded data removed]",
      "text/plain": [
       "<Figure size 864x360 with 1 Axes>"
      ]
     },
     "metadata": {
      "needs_background": "light"
     },
     "output_type": "display_data"
    }
   ],
   "source": [
    "data['count_floors_pre_eq'].value_counts().sort_index().plot(kind='bar')\n",
    "plt.xlabel('Damage Grade')\n",
    "plt.ylabel('No. of records')\n",
    "plt.title('Distribution of count_floors_pre_eq variable')"
   ]
  },
  {
   "cell_type": "markdown",
   "metadata": {},
   "source": [
    "Maximum damage happened to 2-storey buildings."
   ]
  },
  {
   "cell_type": "markdown",
   "metadata": {},
   "source": [
    "#### Check distribution of buildings' age "
   ]
  },
  {
   "cell_type": "code",
   "execution_count": 139,
   "metadata": {
    "ExecuteTime": {
     "end_time": "2019-11-13T02:59:16.944005Z",
     "start_time": "2019-11-13T02:59:16.468280Z"
    },
    "scrolled": true
   },
   "outputs": [
    {
     "data": {
      "text/plain": [
       "<matplotlib.axes._subplots.AxesSubplot at 0x22c0880ad30>"
      ]
     },
     "execution_count": 139,
     "metadata": {},
     "output_type": "execute_result"
    },
    {
     "data": {
      "image/png": "[encoded data removed]",
      "text/plain": [
       "<Figure size 864x360 with 1 Axes>"
      ]
     },
     "metadata": {
      "needs_background": "light"
     },
     "output_type": "display_data"
    }
   ],
   "source": [
    "data['age'].value_counts().sort_index().plot.bar()"
   ]
  },
  {
   "cell_type": "markdown",
   "metadata": {},
   "source": [
    "- Around 10% of total data has buildings with age 0\n",
    "- Age is binned in the intervals of 5. So 0 age  denotes building with age upto 4 years and so forth.\n",
    "- There are few outliers after 100 years of age. These values can be excluded from the analysis. "
   ]
  },
  {
   "cell_type": "markdown",
   "metadata": {},
   "source": [
    "#### Check distribution of area_percentage"
   ]
  },
  {
   "cell_type": "code",
   "execution_count": 140,
   "metadata": {
    "ExecuteTime": {
     "end_time": "2019-11-13T02:59:20.503487Z",
     "start_time": "2019-11-13T02:59:16.946999Z"
    },
    "scrolled": true
   },
   "outputs": [
    {
     "data": {
      "text/plain": [
       "<matplotlib.axes._subplots.AxesSubplot at 0x22c08b4aeb8>"
      ]
     },
     "execution_count": 140,
     "metadata": {},
     "output_type": "execute_result"
    },
    {
     "data": {
      "image/png": "[encoded data removed]",
      "text/plain": [
       "<Figure size 864x360 with 1 Axes>"
      ]
     },
     "metadata": {
      "needs_background": "light"
     },
     "output_type": "display_data"
    }
   ],
   "source": [
    "sns.countplot(x='height_percentage',data=data, hue='damage')"
   ]
  },
  {
   "cell_type": "markdown",
   "metadata": {},
   "source": [
    "#### Check distribution of height_percentage"
   ]
  },
  {
   "cell_type": "code",
   "execution_count": 141,
   "metadata": {
    "ExecuteTime": {
     "end_time": "2019-11-13T02:59:20.552360Z",
     "start_time": "2019-11-13T02:59:20.506481Z"
    }
   },
   "outputs": [
    {
     "data": {
      "text/html": [
       "<div>\n",
       "<style scoped>\n",
       "    .dataframe tbody tr th:only-of-type {\n",
       "        vertical-align: middle;\n",
       "    }\n",
       "\n",
       "    .dataframe tbody tr th {\n",
       "        vertical-align: top;\n",
       "    }\n",
       "\n",
       "    .dataframe thead th {\n",
       "        text-align: right;\n",
       "    }\n",
       "</style>\n",
       "<table border=\"1\" class=\"dataframe\">\n",
       "  <thead>\n",
       "    <tr style=\"text-align: right;\">\n",
       "      <th></th>\n",
       "      <th>height_percentage</th>\n",
       "      <th>damage</th>\n",
       "      <th>0</th>\n",
       "    </tr>\n",
       "  </thead>\n",
       "  <tbody>\n",
       "    <tr>\n",
       "      <th>0</th>\n",
       "      <td>2</td>\n",
       "      <td>1</td>\n",
       "      <td>1502</td>\n",
       "    </tr>\n",
       "    <tr>\n",
       "      <th>1</th>\n",
       "      <td>2</td>\n",
       "      <td>2</td>\n",
       "      <td>4841</td>\n",
       "    </tr>\n",
       "    <tr>\n",
       "      <th>2</th>\n",
       "      <td>2</td>\n",
       "      <td>3</td>\n",
       "      <td>2962</td>\n",
       "    </tr>\n",
       "    <tr>\n",
       "      <th>3</th>\n",
       "      <td>3</td>\n",
       "      <td>1</td>\n",
       "      <td>6122</td>\n",
       "    </tr>\n",
       "    <tr>\n",
       "      <th>4</th>\n",
       "      <td>3</td>\n",
       "      <td>2</td>\n",
       "      <td>13636</td>\n",
       "    </tr>\n",
       "  </tbody>\n",
       "</table>\n",
       "</div>"
      ],
      "text/plain": [
       "   height_percentage  damage      0\n",
       "0                  2       1   1502\n",
       "1                  2       2   4841\n",
       "2                  2       3   2962\n",
       "3                  3       1   6122\n",
       "4                  3       2  13636"
      ]
     },
     "execution_count": 141,
     "metadata": {},
     "output_type": "execute_result"
    }
   ],
   "source": [
    "# sns.countplot(x='height_percentage',data=data[data['area_percentage']<30], hue='damage',stacked=True)\n",
    "a=data.groupby(['height_percentage','damage']).size().reset_index()\n",
    "a.head()"
   ]
  },
  {
   "cell_type": "code",
   "execution_count": 142,
   "metadata": {
    "ExecuteTime": {
     "end_time": "2019-11-13T02:59:20.579287Z",
     "start_time": "2019-11-13T02:59:20.556346Z"
    }
   },
   "outputs": [
    {
     "data": {
      "text/html": [
       "<div>\n",
       "<style scoped>\n",
       "    .dataframe tbody tr th:only-of-type {\n",
       "        vertical-align: middle;\n",
       "    }\n",
       "\n",
       "    .dataframe tbody tr th {\n",
       "        vertical-align: top;\n",
       "    }\n",
       "\n",
       "    .dataframe thead th {\n",
       "        text-align: right;\n",
       "    }\n",
       "</style>\n",
       "<table border=\"1\" class=\"dataframe\">\n",
       "  <thead>\n",
       "    <tr style=\"text-align: right;\">\n",
       "      <th>damage</th>\n",
       "      <th>height_percentage</th>\n",
       "      <th>1</th>\n",
       "      <th>2</th>\n",
       "      <th>3</th>\n",
       "    </tr>\n",
       "  </thead>\n",
       "  <tbody>\n",
       "    <tr>\n",
       "      <th>0</th>\n",
       "      <td>2</td>\n",
       "      <td>1502.0</td>\n",
       "      <td>4841.0</td>\n",
       "      <td>2962.0</td>\n",
       "    </tr>\n",
       "    <tr>\n",
       "      <th>1</th>\n",
       "      <td>3</td>\n",
       "      <td>6122.0</td>\n",
       "      <td>13636.0</td>\n",
       "      <td>6199.0</td>\n",
       "    </tr>\n",
       "    <tr>\n",
       "      <th>2</th>\n",
       "      <td>4</td>\n",
       "      <td>3652.0</td>\n",
       "      <td>22087.0</td>\n",
       "      <td>12024.0</td>\n",
       "    </tr>\n",
       "    <tr>\n",
       "      <th>3</th>\n",
       "      <td>5</td>\n",
       "      <td>5280.0</td>\n",
       "      <td>46753.0</td>\n",
       "      <td>26480.0</td>\n",
       "    </tr>\n",
       "    <tr>\n",
       "      <th>4</th>\n",
       "      <td>6</td>\n",
       "      <td>3269.0</td>\n",
       "      <td>25840.0</td>\n",
       "      <td>17368.0</td>\n",
       "    </tr>\n",
       "  </tbody>\n",
       "</table>\n",
       "</div>"
      ],
      "text/plain": [
       "damage  height_percentage       1        2        3\n",
       "0                       2  1502.0   4841.0   2962.0\n",
       "1                       3  6122.0  13636.0   6199.0\n",
       "2                       4  3652.0  22087.0  12024.0\n",
       "3                       5  5280.0  46753.0  26480.0\n",
       "4                       6  3269.0  25840.0  17368.0"
      ]
     },
     "execution_count": 142,
     "metadata": {},
     "output_type": "execute_result"
    }
   ],
   "source": [
    "b=a.pivot(index='height_percentage',columns='damage',values=0).reset_index()\n",
    "b.head()"
   ]
  },
  {
   "cell_type": "code",
   "execution_count": 143,
   "metadata": {
    "ExecuteTime": {
     "end_time": "2019-11-13T02:59:20.589259Z",
     "start_time": "2019-11-13T02:59:20.583276Z"
    }
   },
   "outputs": [],
   "source": [
    "b.set_index('height_percentage',inplace=True)"
   ]
  },
  {
   "cell_type": "code",
   "execution_count": 144,
   "metadata": {
    "ExecuteTime": {
     "end_time": "2019-11-13T02:59:21.097897Z",
     "start_time": "2019-11-13T02:59:20.593248Z"
    },
    "scrolled": true
   },
   "outputs": [
    {
     "data": {
      "image/png": "[encoded data removed]",
      "text/plain": [
       "<Figure size 864x360 with 1 Axes>"
      ]
     },
     "metadata": {
      "needs_background": "light"
     },
     "output_type": "display_data"
    }
   ],
   "source": [
    "b.plot(kind='bar',stacked=True,title='Type of damage by height percentage of buildings');"
   ]
  },
  {
   "cell_type": "markdown",
   "metadata": {},
   "source": [
    "#### Check distrinution of no. of families living in the buildings"
   ]
  },
  {
   "cell_type": "code",
   "execution_count": 145,
   "metadata": {
    "ExecuteTime": {
     "end_time": "2019-11-13T02:59:21.325289Z",
     "start_time": "2019-11-13T02:59:21.100891Z"
    }
   },
   "outputs": [
    {
     "data": {
      "text/plain": [
       "Text(0.5, 1.0, 'Distribution of count_families variable')"
      ]
     },
     "execution_count": 145,
     "metadata": {},
     "output_type": "execute_result"
    },
    {
     "data": {
      "image/png": "[encoded data removed]",
      "text/plain": [
       "<Figure size 864x360 with 1 Axes>"
      ]
     },
     "metadata": {
      "needs_background": "light"
     },
     "output_type": "display_data"
    }
   ],
   "source": [
    "data['count_families'].value_counts().sort_index().plot(kind='bar')\n",
    "plt.xlabel('Damage Grade')\n",
    "plt.ylabel('No. of records')\n",
    "plt.title('Distribution of count_families variable')"
   ]
  },
  {
   "cell_type": "markdown",
   "metadata": {},
   "source": [
    "Maximum homes damaged were single faily homes."
   ]
  },
  {
   "cell_type": "markdown",
   "metadata": {},
   "source": [
    "### Analyze effect of variour features on damage caused to the buildings"
   ]
  },
  {
   "cell_type": "markdown",
   "metadata": {},
   "source": [
    "#### Analyze effect of building's age on the damage caused"
   ]
  },
  {
   "cell_type": "code",
   "execution_count": 146,
   "metadata": {
    "ExecuteTime": {
     "end_time": "2019-11-13T02:59:21.407070Z",
     "start_time": "2019-11-13T02:59:21.328284Z"
    }
   },
   "outputs": [],
   "source": [
    "# There are few outlier buildings older than 100 years. Remove them from training data\n",
    "filt=data['age']<=100\n",
    "data=data[filt]"
   ]
  },
  {
   "cell_type": "code",
   "execution_count": 147,
   "metadata": {
    "ExecuteTime": {
     "end_time": "2019-11-13T02:59:21.832932Z",
     "start_time": "2019-11-13T02:59:21.409066Z"
    }
   },
   "outputs": [
    {
     "data": {
      "image/png": "[encoded data removed]",
      "text/plain": [
       "<Figure size 864x360 with 1 Axes>"
      ]
     },
     "metadata": {
      "needs_background": "light"
     },
     "output_type": "display_data"
    }
   ],
   "source": [
    "#Goal: get a stacked bar chart with % of total\n",
    "#Slice and aggregated data for plotting\n",
    "dataGrouped=data.groupby(['age','damage' ]).agg({'building_id':'count'}).reset_index()\n",
    "\n",
    "#Rename aggregated column\n",
    "dataGrouped.rename(columns={'building_id':'count'},inplace=True)\n",
    "\n",
    "#Create a crosstab- this step is required to get data in the format suitable for required type of chart\n",
    "dataCrosstab=pd.crosstab(index=dataGrouped['age'],columns=dataGrouped['damage'],\n",
    "                         values=dataGrouped['count'], aggfunc='sum',normalize='index')*100\n",
    "\n",
    "# Plot the data and set labels\n",
    "dataCrosstab.plot(kind='bar',stacked=True,title='Type of damage by age of buildings');\n",
    "plt.legend(loc='best')\n",
    "plt.ylabel('Percent of total')\n",
    "plt.xlabel('Age of buildings')\n",
    "plt.legend(loc='upper right');\n"
   ]
  },
  {
   "cell_type": "markdown",
   "metadata": {},
   "source": [
    "- It is evident that medium grade damage is the common type of damage. \n",
    "- It is interesting to notice that only buildings less than 5 year old have lesser grade 3 damage than grade 1. "
   ]
  },
  {
   "cell_type": "markdown",
   "metadata": {},
   "source": [
    "#### Analyze effect of building's age on the damage caused for building of age 50-100 years"
   ]
  },
  {
   "cell_type": "code",
   "execution_count": 148,
   "metadata": {
    "ExecuteTime": {
     "end_time": "2019-11-13T02:59:22.247822Z",
     "start_time": "2019-11-13T02:59:21.837920Z"
    }
   },
   "outputs": [
    {
     "data": {
      "image/png": "[encoded data removed]",
      "text/plain": [
       "<Figure size 864x360 with 1 Axes>"
      ]
     },
     "metadata": {
      "needs_background": "light"
     },
     "output_type": "display_data"
    }
   ],
   "source": [
    "damageByAge=data.groupby(['age','damage' ]).agg({'building_id':'count'}).reset_index()\n",
    "damageByAge.rename(columns={'building_id':'count'},inplace=True)\n",
    "filt=damageByAge['age']>=50\n",
    "sns.barplot(x='age',y='count',data=damageByAge[filt],hue='damage');"
   ]
  },
  {
   "cell_type": "markdown",
   "metadata": {},
   "source": [
    "- There are very small number of older buildings with low grade damage. \n",
    "- Older buildings could not tolerate the wrath of nature and bore medium to high damage."
   ]
  },
  {
   "cell_type": "markdown",
   "metadata": {},
   "source": [
    "#### Analyze effect of building materials on the damage caused"
   ]
  },
  {
   "cell_type": "code",
   "execution_count": 149,
   "metadata": {
    "ExecuteTime": {
     "end_time": "2019-11-13T02:59:23.615171Z",
     "start_time": "2019-11-13T02:59:22.251813Z"
    }
   },
   "outputs": [
    {
     "data": {
      "text/plain": [
       "Text(0, 0.5, 'count')"
      ]
     },
     "execution_count": 149,
     "metadata": {},
     "output_type": "execute_result"
    },
    {
     "data": {
      "image/png": "[encoded data removed]",
      "text/plain": [
       "<Figure size 864x360 with 1 Axes>"
      ]
     },
     "metadata": {
      "needs_background": "light"
     },
     "output_type": "display_data"
    }
   ],
   "source": [
    "# list of structure related colmns\n",
    "cols=['has_superstructure_adobe_mud',\n",
    "       'has_superstructure_mud_mortar_stone', 'has_superstructure_stone_flag',\n",
    "       'has_superstructure_cement_mortar_stone',\n",
    "       'has_superstructure_mud_mortar_brick',\n",
    "       'has_superstructure_cement_mortar_brick', 'has_superstructure_timber',\n",
    "       'has_superstructure_bamboo', 'has_superstructure_rc_non_engineered',\n",
    "       'has_superstructure_rc_engineered', 'has_superstructure_other']\n",
    "\n",
    "# melt the columns\n",
    "datamelt=data.melt(id_vars=['age','damage'],value_vars=cols).rename(columns={'variable':'structure','value':'count'})\n",
    "\n",
    "# Group by age, damage and structure\n",
    "damageByStructure=datamelt.groupby(['damage','structure']).agg({'count':'sum'})\n",
    "\n",
    "# sns.barplot(x='age',y='count',data=damageByStructure, hue='damage')\n",
    "damageByStructure.reset_index(inplace=True)\n",
    "\n",
    "\n",
    "damageByStructure.sort_values(by='count', ascending=False,inplace=True)\n",
    "\n",
    "# Plot the bar chart\n",
    "sns.barplot(x='structure',y='count',data=damageByStructure,hue='damage')\n",
    "plt.xticks(rotation=90)\n",
    "plt.ylabel('count')\n"
   ]
  },
  {
   "cell_type": "markdown",
   "metadata": {},
   "source": [
    "- Top 5 types of structures those got damaged the most were made up of  **timber, bamboo and some form of mud.**\n",
    "\n",
    "- stone_flag, cement_mortar_stone and rc_engineered type were affected the least. This show that these buildings either withheld the earthquake well or they were far away from the epicenter.\n",
    "\n"
   ]
  },
  {
   "cell_type": "markdown",
   "metadata": {},
   "source": [
    "#### Analyze effect of Foundation Type on damage grade"
   ]
  },
  {
   "cell_type": "code",
   "execution_count": 150,
   "metadata": {
    "ExecuteTime": {
     "end_time": "2019-11-13T02:59:35.527311Z",
     "start_time": "2019-11-13T02:59:23.618158Z"
    }
   },
   "outputs": [
    {
     "data": {
      "text/plain": [
       "<matplotlib.axes._subplots.AxesSubplot at 0x22c041d0e48>"
      ]
     },
     "execution_count": 150,
     "metadata": {},
     "output_type": "execute_result"
    },
    {
     "data": {
      "image/png": "[encoded data removed]",
      "text/plain": [
       "<Figure size 864x360 with 1 Axes>"
      ]
     },
     "metadata": {
      "needs_background": "light"
     },
     "output_type": "display_data"
    }
   ],
   "source": [
    "# cols=['count_floors_pre_eq', 'age', 'area_percentage', 'height_percentage',\n",
    "#        'land_surface_condition', 'foundation_type', 'roof_type',\n",
    "#        'ground_floor_type', 'other_floor_type', 'position',\n",
    "#        'plan_configuration',]\n",
    "sns.countplot(data=data, x=data['foundation_type'],hue=data['damage'])"
   ]
  },
  {
   "cell_type": "markdown",
   "metadata": {},
   "source": [
    "- 'r' type of foundation is the leading type of foundation found in most of the damaged buildings."
   ]
  },
  {
   "cell_type": "markdown",
   "metadata": {},
   "source": [
    "#### Check no. of floors in building with 'r' foundation  type"
   ]
  },
  {
   "cell_type": "code",
   "execution_count": 151,
   "metadata": {
    "ExecuteTime": {
     "end_time": "2019-11-13T02:59:35.624053Z",
     "start_time": "2019-11-13T02:59:35.530306Z"
    }
   },
   "outputs": [
    {
     "data": {
      "text/plain": [
       "2    61.722400\n",
       "3    23.339394\n",
       "1    12.411682\n",
       "4     1.762905\n",
       "5     0.719891\n",
       "6     0.038204\n",
       "7     0.005063\n",
       "9     0.000460\n",
       "Name: count_floors_pre_eq, dtype: float64"
      ]
     },
     "execution_count": 151,
     "metadata": {},
     "output_type": "execute_result"
    }
   ],
   "source": [
    "filt=data['foundation_type']=='r'\n",
    "data[filt].count_floors_pre_eq.value_counts(normalize=True)*100"
   ]
  },
  {
   "cell_type": "markdown",
   "metadata": {},
   "source": [
    "**62%** of the buildings with 'r' type foundation had **2 floors** before earthquake. \n"
   ]
  },
  {
   "cell_type": "markdown",
   "metadata": {},
   "source": [
    "### Summary"
   ]
  },
  {
   "cell_type": "markdown",
   "metadata": {},
   "source": [
    "Below is the summary of data exploration\n",
    "1. The target value is imbalanced. \n",
    "2. Maximum damage happened to 2-storey buildings.\n",
    "3. Building's age is binned in intervals of 5. Most of the building are 0-100 years old. There are also few outliers which can be excluded from teh analysis.\n",
    "4. area_percentage and height_percentage variables are already normalized.\n",
    "5. Most of the damaged buildings are single family homes. We can infer that most of the damage happend to residential areas.\n",
    "\n"
   ]
  },
  {
   "cell_type": "code",
   "execution_count": null,
   "metadata": {},
   "outputs": [],
   "source": []
  }
 ],
 "metadata": {
  "kernelspec": {
   "display_name": "Python 3",
   "language": "python",
   "name": "python3"
  },
  "language_info": {
   "codemirror_mode": {
    "name": "ipython",
    "version": 3
   },
   "file_extension": ".py",
   "mimetype": "text/x-python",
   "name": "python",
   "nbconvert_exporter": "python",
   "pygments_lexer": "ipython3",
   "version": "3.7.3"
  },
  "toc": {
   "base_numbering": 1,
   "nav_menu": {},
   "number_sections": true,
   "sideBar": true,
   "skip_h1_title": false,
   "title_cell": "Table of Contents",
   "title_sidebar": "Contents",
   "toc_cell": true,
   "toc_position": {
    "height": "477px",
    "left": "156px",
    "top": "132px",
    "width": "201px"
   },
   "toc_section_display": true,
   "toc_window_display": true
  }
 },
 "nbformat": 4,
 "nbformat_minor": 2
}
